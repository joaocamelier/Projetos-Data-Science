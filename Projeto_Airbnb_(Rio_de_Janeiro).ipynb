{
  "nbformat": 4,
  "nbformat_minor": 0,
  "metadata": {
    "colab": {
      "provenance": [],
      "collapsed_sections": []
    },
    "kernelspec": {
      "name": "python3",
      "display_name": "Python 3"
    },
    "language_info": {
      "name": "python"
    }
  },
  "cells": [
    {
      "cell_type": "markdown",
      "source": [
        "## Importando pacotes"
      ],
      "metadata": {
        "id": "QxTLcDXWpZD2"
      }
    },
    {
      "cell_type": "code",
      "execution_count": 254,
      "metadata": {
        "id": "-hC9VMQcinKJ"
      },
      "outputs": [],
      "source": [
        "import pandas as pd\n",
        "import matplotlib.pyplot as plt\n",
        "import seaborn as sns"
      ]
    },
    {
      "cell_type": "code",
      "source": [
        "df = pd.read_csv('https://www.dropbox.com/s/33gfbmmc09b2olm/listings.csv?dl=1')\n",
        "df.set_index('id' , inplace = True)"
      ],
      "metadata": {
        "id": "lL0edBfSkPI8"
      },
      "execution_count": 255,
      "outputs": []
    },
    {
      "cell_type": "markdown",
      "source": [
        "## Limpeza dos dados"
      ],
      "metadata": {
        "id": "RGqRX-uQpWnI"
      }
    },
    {
      "cell_type": "code",
      "source": [
        "print(df.shape)\n",
        "df.head(3)"
      ],
      "metadata": {
        "colab": {
          "base_uri": "https://localhost:8080/",
          "height": 430
        },
        "id": "McXpJAc_kaCk",
        "outputId": "4bdf0a2a-4067-4ebd-ac59-3b029636686d"
      },
      "execution_count": 256,
      "outputs": [
        {
          "output_type": "stream",
          "name": "stdout",
          "text": [
            "(26467, 15)\n"
          ]
        },
        {
          "output_type": "execute_result",
          "data": {
            "text/plain": [
              "                                                    name  host_id host_name  \\\n",
              "id                                                                            \n",
              "17878  Very Nice 2Br in Copacabana w. balcony, fast WiFi    68997  Matthias   \n",
              "24480                   Nice and cozy near Ipanema Beach    99249      Goya   \n",
              "35636                   Cosy flat close to Ipanema beach   153232  Patricia   \n",
              "\n",
              "       neighbourhood_group neighbourhood  latitude  longitude  \\\n",
              "id                                                              \n",
              "17878                  NaN    Copacabana -22.96599  -43.17940   \n",
              "24480                  NaN       Ipanema -22.98405  -43.20189   \n",
              "35636                  NaN       Ipanema -22.98839  -43.19232   \n",
              "\n",
              "             room_type  price  minimum_nights  number_of_reviews last_review  \\\n",
              "id                                                                             \n",
              "17878  Entire home/apt    190               5                260  2021-02-08   \n",
              "24480  Entire home/apt    311               3                 85  2018-02-14   \n",
              "35636  Entire home/apt    267               2                181  2020-03-15   \n",
              "\n",
              "       reviews_per_month  calculated_host_listings_count  availability_365  \n",
              "id                                                                          \n",
              "17878               1.98                               1               343  \n",
              "24480               0.66                               1                73  \n",
              "35636               1.98                               1               272  "
            ],
            "text/html": [
              "\n",
              "  <div id=\"df-eae9cded-f5be-45ef-8447-2506d4310e40\">\n",
              "    <div class=\"colab-df-container\">\n",
              "      <div>\n",
              "<style scoped>\n",
              "    .dataframe tbody tr th:only-of-type {\n",
              "        vertical-align: middle;\n",
              "    }\n",
              "\n",
              "    .dataframe tbody tr th {\n",
              "        vertical-align: top;\n",
              "    }\n",
              "\n",
              "    .dataframe thead th {\n",
              "        text-align: right;\n",
              "    }\n",
              "</style>\n",
              "<table border=\"1\" class=\"dataframe\">\n",
              "  <thead>\n",
              "    <tr style=\"text-align: right;\">\n",
              "      <th></th>\n",
              "      <th>name</th>\n",
              "      <th>host_id</th>\n",
              "      <th>host_name</th>\n",
              "      <th>neighbourhood_group</th>\n",
              "      <th>neighbourhood</th>\n",
              "      <th>latitude</th>\n",
              "      <th>longitude</th>\n",
              "      <th>room_type</th>\n",
              "      <th>price</th>\n",
              "      <th>minimum_nights</th>\n",
              "      <th>number_of_reviews</th>\n",
              "      <th>last_review</th>\n",
              "      <th>reviews_per_month</th>\n",
              "      <th>calculated_host_listings_count</th>\n",
              "      <th>availability_365</th>\n",
              "    </tr>\n",
              "    <tr>\n",
              "      <th>id</th>\n",
              "      <th></th>\n",
              "      <th></th>\n",
              "      <th></th>\n",
              "      <th></th>\n",
              "      <th></th>\n",
              "      <th></th>\n",
              "      <th></th>\n",
              "      <th></th>\n",
              "      <th></th>\n",
              "      <th></th>\n",
              "      <th></th>\n",
              "      <th></th>\n",
              "      <th></th>\n",
              "      <th></th>\n",
              "      <th></th>\n",
              "    </tr>\n",
              "  </thead>\n",
              "  <tbody>\n",
              "    <tr>\n",
              "      <th>17878</th>\n",
              "      <td>Very Nice 2Br in Copacabana w. balcony, fast WiFi</td>\n",
              "      <td>68997</td>\n",
              "      <td>Matthias</td>\n",
              "      <td>NaN</td>\n",
              "      <td>Copacabana</td>\n",
              "      <td>-22.96599</td>\n",
              "      <td>-43.17940</td>\n",
              "      <td>Entire home/apt</td>\n",
              "      <td>190</td>\n",
              "      <td>5</td>\n",
              "      <td>260</td>\n",
              "      <td>2021-02-08</td>\n",
              "      <td>1.98</td>\n",
              "      <td>1</td>\n",
              "      <td>343</td>\n",
              "    </tr>\n",
              "    <tr>\n",
              "      <th>24480</th>\n",
              "      <td>Nice and cozy near Ipanema Beach</td>\n",
              "      <td>99249</td>\n",
              "      <td>Goya</td>\n",
              "      <td>NaN</td>\n",
              "      <td>Ipanema</td>\n",
              "      <td>-22.98405</td>\n",
              "      <td>-43.20189</td>\n",
              "      <td>Entire home/apt</td>\n",
              "      <td>311</td>\n",
              "      <td>3</td>\n",
              "      <td>85</td>\n",
              "      <td>2018-02-14</td>\n",
              "      <td>0.66</td>\n",
              "      <td>1</td>\n",
              "      <td>73</td>\n",
              "    </tr>\n",
              "    <tr>\n",
              "      <th>35636</th>\n",
              "      <td>Cosy flat close to Ipanema beach</td>\n",
              "      <td>153232</td>\n",
              "      <td>Patricia</td>\n",
              "      <td>NaN</td>\n",
              "      <td>Ipanema</td>\n",
              "      <td>-22.98839</td>\n",
              "      <td>-43.19232</td>\n",
              "      <td>Entire home/apt</td>\n",
              "      <td>267</td>\n",
              "      <td>2</td>\n",
              "      <td>181</td>\n",
              "      <td>2020-03-15</td>\n",
              "      <td>1.98</td>\n",
              "      <td>1</td>\n",
              "      <td>272</td>\n",
              "    </tr>\n",
              "  </tbody>\n",
              "</table>\n",
              "</div>\n",
              "      <button class=\"colab-df-convert\" onclick=\"convertToInteractive('df-eae9cded-f5be-45ef-8447-2506d4310e40')\"\n",
              "              title=\"Convert this dataframe to an interactive table.\"\n",
              "              style=\"display:none;\">\n",
              "        \n",
              "  <svg xmlns=\"http://www.w3.org/2000/svg\" height=\"24px\"viewBox=\"0 0 24 24\"\n",
              "       width=\"24px\">\n",
              "    <path d=\"M0 0h24v24H0V0z\" fill=\"none\"/>\n",
              "    <path d=\"M18.56 5.44l.94 2.06.94-2.06 2.06-.94-2.06-.94-.94-2.06-.94 2.06-2.06.94zm-11 1L8.5 8.5l.94-2.06 2.06-.94-2.06-.94L8.5 2.5l-.94 2.06-2.06.94zm10 10l.94 2.06.94-2.06 2.06-.94-2.06-.94-.94-2.06-.94 2.06-2.06.94z\"/><path d=\"M17.41 7.96l-1.37-1.37c-.4-.4-.92-.59-1.43-.59-.52 0-1.04.2-1.43.59L10.3 9.45l-7.72 7.72c-.78.78-.78 2.05 0 2.83L4 21.41c.39.39.9.59 1.41.59.51 0 1.02-.2 1.41-.59l7.78-7.78 2.81-2.81c.8-.78.8-2.07 0-2.86zM5.41 20L4 18.59l7.72-7.72 1.47 1.35L5.41 20z\"/>\n",
              "  </svg>\n",
              "      </button>\n",
              "      \n",
              "  <style>\n",
              "    .colab-df-container {\n",
              "      display:flex;\n",
              "      flex-wrap:wrap;\n",
              "      gap: 12px;\n",
              "    }\n",
              "\n",
              "    .colab-df-convert {\n",
              "      background-color: #E8F0FE;\n",
              "      border: none;\n",
              "      border-radius: 50%;\n",
              "      cursor: pointer;\n",
              "      display: none;\n",
              "      fill: #1967D2;\n",
              "      height: 32px;\n",
              "      padding: 0 0 0 0;\n",
              "      width: 32px;\n",
              "    }\n",
              "\n",
              "    .colab-df-convert:hover {\n",
              "      background-color: #E2EBFA;\n",
              "      box-shadow: 0px 1px 2px rgba(60, 64, 67, 0.3), 0px 1px 3px 1px rgba(60, 64, 67, 0.15);\n",
              "      fill: #174EA6;\n",
              "    }\n",
              "\n",
              "    [theme=dark] .colab-df-convert {\n",
              "      background-color: #3B4455;\n",
              "      fill: #D2E3FC;\n",
              "    }\n",
              "\n",
              "    [theme=dark] .colab-df-convert:hover {\n",
              "      background-color: #434B5C;\n",
              "      box-shadow: 0px 1px 3px 1px rgba(0, 0, 0, 0.15);\n",
              "      filter: drop-shadow(0px 1px 2px rgba(0, 0, 0, 0.3));\n",
              "      fill: #FFFFFF;\n",
              "    }\n",
              "  </style>\n",
              "\n",
              "      <script>\n",
              "        const buttonEl =\n",
              "          document.querySelector('#df-eae9cded-f5be-45ef-8447-2506d4310e40 button.colab-df-convert');\n",
              "        buttonEl.style.display =\n",
              "          google.colab.kernel.accessAllowed ? 'block' : 'none';\n",
              "\n",
              "        async function convertToInteractive(key) {\n",
              "          const element = document.querySelector('#df-eae9cded-f5be-45ef-8447-2506d4310e40');\n",
              "          const dataTable =\n",
              "            await google.colab.kernel.invokeFunction('convertToInteractive',\n",
              "                                                     [key], {});\n",
              "          if (!dataTable) return;\n",
              "\n",
              "          const docLinkHtml = 'Like what you see? Visit the ' +\n",
              "            '<a target=\"_blank\" href=https://colab.research.google.com/notebooks/data_table.ipynb>data table notebook</a>'\n",
              "            + ' to learn more about interactive tables.';\n",
              "          element.innerHTML = '';\n",
              "          dataTable['output_type'] = 'display_data';\n",
              "          await google.colab.output.renderOutput(dataTable, element);\n",
              "          const docLink = document.createElement('div');\n",
              "          docLink.innerHTML = docLinkHtml;\n",
              "          element.appendChild(docLink);\n",
              "        }\n",
              "      </script>\n",
              "    </div>\n",
              "  </div>\n",
              "  "
            ]
          },
          "metadata": {},
          "execution_count": 256
        }
      ]
    },
    {
      "cell_type": "code",
      "source": [
        "df.dtypes"
      ],
      "metadata": {
        "colab": {
          "base_uri": "https://localhost:8080/"
        },
        "id": "2P_q7mZdllnA",
        "outputId": "acd4fc40-ef6b-4a98-f80a-785fba87c4c5"
      },
      "execution_count": 257,
      "outputs": [
        {
          "output_type": "execute_result",
          "data": {
            "text/plain": [
              "name                               object\n",
              "host_id                             int64\n",
              "host_name                          object\n",
              "neighbourhood_group               float64\n",
              "neighbourhood                      object\n",
              "latitude                          float64\n",
              "longitude                         float64\n",
              "room_type                          object\n",
              "price                               int64\n",
              "minimum_nights                      int64\n",
              "number_of_reviews                   int64\n",
              "last_review                        object\n",
              "reviews_per_month                 float64\n",
              "calculated_host_listings_count      int64\n",
              "availability_365                    int64\n",
              "dtype: object"
            ]
          },
          "metadata": {},
          "execution_count": 257
        }
      ]
    },
    {
      "cell_type": "code",
      "source": [
        "dados_ausentes = df.isnull().sum() / df.shape[0]\n",
        "dados_ausentes.sort_values(ascending = False)"
      ],
      "metadata": {
        "colab": {
          "base_uri": "https://localhost:8080/"
        },
        "id": "GxSmL8agmLjm",
        "outputId": "ea9b275a-5934-4e1d-e5e7-c7503f36456c"
      },
      "execution_count": 258,
      "outputs": [
        {
          "output_type": "execute_result",
          "data": {
            "text/plain": [
              "neighbourhood_group               1.000000\n",
              "last_review                       0.371179\n",
              "reviews_per_month                 0.371179\n",
              "host_name                         0.032380\n",
              "name                              0.001096\n",
              "host_id                           0.000000\n",
              "neighbourhood                     0.000000\n",
              "latitude                          0.000000\n",
              "longitude                         0.000000\n",
              "room_type                         0.000000\n",
              "price                             0.000000\n",
              "minimum_nights                    0.000000\n",
              "number_of_reviews                 0.000000\n",
              "calculated_host_listings_count    0.000000\n",
              "availability_365                  0.000000\n",
              "dtype: float64"
            ]
          },
          "metadata": {},
          "execution_count": 258
        }
      ]
    },
    {
      "cell_type": "code",
      "source": [
        "df.drop(columns = 'neighbourhood_group' , inplace = True)"
      ],
      "metadata": {
        "id": "30mkbalUmVvn"
      },
      "execution_count": 259,
      "outputs": []
    },
    {
      "cell_type": "code",
      "source": [
        "filtro = df.loc[df['last_review'].isnull()].index\n",
        "df.drop(filtro , inplace = True)"
      ],
      "metadata": {
        "id": "yp3_jzdmnmbo"
      },
      "execution_count": 260,
      "outputs": []
    },
    {
      "cell_type": "code",
      "source": [
        "filtro = df.loc[df['host_name'].isnull()].index\n",
        "df.loc[filtro , 'host_name'] = 'Desconhecido'"
      ],
      "metadata": {
        "id": "XE3O8QTTpmrv"
      },
      "execution_count": 261,
      "outputs": []
    },
    {
      "cell_type": "code",
      "source": [
        "filtro = df.loc[df['name'].isnull()].index\n",
        "df.loc[filtro , 'name'] = 'Desconhecido'"
      ],
      "metadata": {
        "id": "AYKic4GarAct"
      },
      "execution_count": 262,
      "outputs": []
    },
    {
      "cell_type": "code",
      "source": [
        "dados_ausentes = df.isnull().sum() / df.shape[0]\n",
        "dados_ausentes.sort_values(ascending = False)"
      ],
      "metadata": {
        "colab": {
          "base_uri": "https://localhost:8080/"
        },
        "id": "dCgk2xvps_TW",
        "outputId": "4bedacd7-9d78-48f5-ae90-4eac8b14b98f"
      },
      "execution_count": 263,
      "outputs": [
        {
          "output_type": "execute_result",
          "data": {
            "text/plain": [
              "name                              0.0\n",
              "host_id                           0.0\n",
              "host_name                         0.0\n",
              "neighbourhood                     0.0\n",
              "latitude                          0.0\n",
              "longitude                         0.0\n",
              "room_type                         0.0\n",
              "price                             0.0\n",
              "minimum_nights                    0.0\n",
              "number_of_reviews                 0.0\n",
              "last_review                       0.0\n",
              "reviews_per_month                 0.0\n",
              "calculated_host_listings_count    0.0\n",
              "availability_365                  0.0\n",
              "dtype: float64"
            ]
          },
          "metadata": {},
          "execution_count": 263
        }
      ]
    },
    {
      "cell_type": "markdown",
      "source": [
        "## Ánalise"
      ],
      "metadata": {
        "id": "vtDervcEpdCJ"
      }
    },
    {
      "cell_type": "code",
      "source": [
        "print(df.shape)\n",
        "df.head(3)"
      ],
      "metadata": {
        "colab": {
          "base_uri": "https://localhost:8080/",
          "height": 430
        },
        "id": "No0sdowKnTCL",
        "outputId": "ea142144-076d-44bc-9c3a-c4f0ea857355"
      },
      "execution_count": 264,
      "outputs": [
        {
          "output_type": "stream",
          "name": "stdout",
          "text": [
            "(16643, 14)\n"
          ]
        },
        {
          "output_type": "execute_result",
          "data": {
            "text/plain": [
              "                                                    name  host_id host_name  \\\n",
              "id                                                                            \n",
              "17878  Very Nice 2Br in Copacabana w. balcony, fast WiFi    68997  Matthias   \n",
              "24480                   Nice and cozy near Ipanema Beach    99249      Goya   \n",
              "35636                   Cosy flat close to Ipanema beach   153232  Patricia   \n",
              "\n",
              "      neighbourhood  latitude  longitude        room_type  price  \\\n",
              "id                                                                 \n",
              "17878    Copacabana -22.96599  -43.17940  Entire home/apt    190   \n",
              "24480       Ipanema -22.98405  -43.20189  Entire home/apt    311   \n",
              "35636       Ipanema -22.98839  -43.19232  Entire home/apt    267   \n",
              "\n",
              "       minimum_nights  number_of_reviews last_review  reviews_per_month  \\\n",
              "id                                                                        \n",
              "17878               5                260  2021-02-08               1.98   \n",
              "24480               3                 85  2018-02-14               0.66   \n",
              "35636               2                181  2020-03-15               1.98   \n",
              "\n",
              "       calculated_host_listings_count  availability_365  \n",
              "id                                                       \n",
              "17878                               1               343  \n",
              "24480                               1                73  \n",
              "35636                               1               272  "
            ],
            "text/html": [
              "\n",
              "  <div id=\"df-93d6615c-a49a-4893-874b-cf68692ab270\">\n",
              "    <div class=\"colab-df-container\">\n",
              "      <div>\n",
              "<style scoped>\n",
              "    .dataframe tbody tr th:only-of-type {\n",
              "        vertical-align: middle;\n",
              "    }\n",
              "\n",
              "    .dataframe tbody tr th {\n",
              "        vertical-align: top;\n",
              "    }\n",
              "\n",
              "    .dataframe thead th {\n",
              "        text-align: right;\n",
              "    }\n",
              "</style>\n",
              "<table border=\"1\" class=\"dataframe\">\n",
              "  <thead>\n",
              "    <tr style=\"text-align: right;\">\n",
              "      <th></th>\n",
              "      <th>name</th>\n",
              "      <th>host_id</th>\n",
              "      <th>host_name</th>\n",
              "      <th>neighbourhood</th>\n",
              "      <th>latitude</th>\n",
              "      <th>longitude</th>\n",
              "      <th>room_type</th>\n",
              "      <th>price</th>\n",
              "      <th>minimum_nights</th>\n",
              "      <th>number_of_reviews</th>\n",
              "      <th>last_review</th>\n",
              "      <th>reviews_per_month</th>\n",
              "      <th>calculated_host_listings_count</th>\n",
              "      <th>availability_365</th>\n",
              "    </tr>\n",
              "    <tr>\n",
              "      <th>id</th>\n",
              "      <th></th>\n",
              "      <th></th>\n",
              "      <th></th>\n",
              "      <th></th>\n",
              "      <th></th>\n",
              "      <th></th>\n",
              "      <th></th>\n",
              "      <th></th>\n",
              "      <th></th>\n",
              "      <th></th>\n",
              "      <th></th>\n",
              "      <th></th>\n",
              "      <th></th>\n",
              "      <th></th>\n",
              "    </tr>\n",
              "  </thead>\n",
              "  <tbody>\n",
              "    <tr>\n",
              "      <th>17878</th>\n",
              "      <td>Very Nice 2Br in Copacabana w. balcony, fast WiFi</td>\n",
              "      <td>68997</td>\n",
              "      <td>Matthias</td>\n",
              "      <td>Copacabana</td>\n",
              "      <td>-22.96599</td>\n",
              "      <td>-43.17940</td>\n",
              "      <td>Entire home/apt</td>\n",
              "      <td>190</td>\n",
              "      <td>5</td>\n",
              "      <td>260</td>\n",
              "      <td>2021-02-08</td>\n",
              "      <td>1.98</td>\n",
              "      <td>1</td>\n",
              "      <td>343</td>\n",
              "    </tr>\n",
              "    <tr>\n",
              "      <th>24480</th>\n",
              "      <td>Nice and cozy near Ipanema Beach</td>\n",
              "      <td>99249</td>\n",
              "      <td>Goya</td>\n",
              "      <td>Ipanema</td>\n",
              "      <td>-22.98405</td>\n",
              "      <td>-43.20189</td>\n",
              "      <td>Entire home/apt</td>\n",
              "      <td>311</td>\n",
              "      <td>3</td>\n",
              "      <td>85</td>\n",
              "      <td>2018-02-14</td>\n",
              "      <td>0.66</td>\n",
              "      <td>1</td>\n",
              "      <td>73</td>\n",
              "    </tr>\n",
              "    <tr>\n",
              "      <th>35636</th>\n",
              "      <td>Cosy flat close to Ipanema beach</td>\n",
              "      <td>153232</td>\n",
              "      <td>Patricia</td>\n",
              "      <td>Ipanema</td>\n",
              "      <td>-22.98839</td>\n",
              "      <td>-43.19232</td>\n",
              "      <td>Entire home/apt</td>\n",
              "      <td>267</td>\n",
              "      <td>2</td>\n",
              "      <td>181</td>\n",
              "      <td>2020-03-15</td>\n",
              "      <td>1.98</td>\n",
              "      <td>1</td>\n",
              "      <td>272</td>\n",
              "    </tr>\n",
              "  </tbody>\n",
              "</table>\n",
              "</div>\n",
              "      <button class=\"colab-df-convert\" onclick=\"convertToInteractive('df-93d6615c-a49a-4893-874b-cf68692ab270')\"\n",
              "              title=\"Convert this dataframe to an interactive table.\"\n",
              "              style=\"display:none;\">\n",
              "        \n",
              "  <svg xmlns=\"http://www.w3.org/2000/svg\" height=\"24px\"viewBox=\"0 0 24 24\"\n",
              "       width=\"24px\">\n",
              "    <path d=\"M0 0h24v24H0V0z\" fill=\"none\"/>\n",
              "    <path d=\"M18.56 5.44l.94 2.06.94-2.06 2.06-.94-2.06-.94-.94-2.06-.94 2.06-2.06.94zm-11 1L8.5 8.5l.94-2.06 2.06-.94-2.06-.94L8.5 2.5l-.94 2.06-2.06.94zm10 10l.94 2.06.94-2.06 2.06-.94-2.06-.94-.94-2.06-.94 2.06-2.06.94z\"/><path d=\"M17.41 7.96l-1.37-1.37c-.4-.4-.92-.59-1.43-.59-.52 0-1.04.2-1.43.59L10.3 9.45l-7.72 7.72c-.78.78-.78 2.05 0 2.83L4 21.41c.39.39.9.59 1.41.59.51 0 1.02-.2 1.41-.59l7.78-7.78 2.81-2.81c.8-.78.8-2.07 0-2.86zM5.41 20L4 18.59l7.72-7.72 1.47 1.35L5.41 20z\"/>\n",
              "  </svg>\n",
              "      </button>\n",
              "      \n",
              "  <style>\n",
              "    .colab-df-container {\n",
              "      display:flex;\n",
              "      flex-wrap:wrap;\n",
              "      gap: 12px;\n",
              "    }\n",
              "\n",
              "    .colab-df-convert {\n",
              "      background-color: #E8F0FE;\n",
              "      border: none;\n",
              "      border-radius: 50%;\n",
              "      cursor: pointer;\n",
              "      display: none;\n",
              "      fill: #1967D2;\n",
              "      height: 32px;\n",
              "      padding: 0 0 0 0;\n",
              "      width: 32px;\n",
              "    }\n",
              "\n",
              "    .colab-df-convert:hover {\n",
              "      background-color: #E2EBFA;\n",
              "      box-shadow: 0px 1px 2px rgba(60, 64, 67, 0.3), 0px 1px 3px 1px rgba(60, 64, 67, 0.15);\n",
              "      fill: #174EA6;\n",
              "    }\n",
              "\n",
              "    [theme=dark] .colab-df-convert {\n",
              "      background-color: #3B4455;\n",
              "      fill: #D2E3FC;\n",
              "    }\n",
              "\n",
              "    [theme=dark] .colab-df-convert:hover {\n",
              "      background-color: #434B5C;\n",
              "      box-shadow: 0px 1px 3px 1px rgba(0, 0, 0, 0.15);\n",
              "      filter: drop-shadow(0px 1px 2px rgba(0, 0, 0, 0.3));\n",
              "      fill: #FFFFFF;\n",
              "    }\n",
              "  </style>\n",
              "\n",
              "      <script>\n",
              "        const buttonEl =\n",
              "          document.querySelector('#df-93d6615c-a49a-4893-874b-cf68692ab270 button.colab-df-convert');\n",
              "        buttonEl.style.display =\n",
              "          google.colab.kernel.accessAllowed ? 'block' : 'none';\n",
              "\n",
              "        async function convertToInteractive(key) {\n",
              "          const element = document.querySelector('#df-93d6615c-a49a-4893-874b-cf68692ab270');\n",
              "          const dataTable =\n",
              "            await google.colab.kernel.invokeFunction('convertToInteractive',\n",
              "                                                     [key], {});\n",
              "          if (!dataTable) return;\n",
              "\n",
              "          const docLinkHtml = 'Like what you see? Visit the ' +\n",
              "            '<a target=\"_blank\" href=https://colab.research.google.com/notebooks/data_table.ipynb>data table notebook</a>'\n",
              "            + ' to learn more about interactive tables.';\n",
              "          element.innerHTML = '';\n",
              "          dataTable['output_type'] = 'display_data';\n",
              "          await google.colab.output.renderOutput(dataTable, element);\n",
              "          const docLink = document.createElement('div');\n",
              "          docLink.innerHTML = docLinkHtml;\n",
              "          element.appendChild(docLink);\n",
              "        }\n",
              "      </script>\n",
              "    </div>\n",
              "  </div>\n",
              "  "
            ]
          },
          "metadata": {},
          "execution_count": 264
        }
      ]
    },
    {
      "cell_type": "code",
      "source": [
        "df.hist(bins = 15 , figsize = (16,12));"
      ],
      "metadata": {
        "colab": {
          "base_uri": "https://localhost:8080/",
          "height": 716
        },
        "id": "rEUY1Unss2ij",
        "outputId": "0bf013dc-c3d8-4a72-8818-24759ecad59a"
      },
      "execution_count": 265,
      "outputs": [
        {
          "output_type": "display_data",
          "data": {
            "text/plain": [
              "<Figure size 1152x864 with 9 Axes>"
            ],
            "image/png": "[encoded data removed]"
          },
          "metadata": {
            "needs_background": "light"
          }
        }
      ]
    },
    {
      "cell_type": "markdown",
      "source": [
        "### Identificando outliers"
      ],
      "metadata": {
        "id": "ev6kh8G_vocW"
      }
    },
    {
      "cell_type": "markdown",
      "source": [
        "Procuramos eliminar os outliers para impedir uma análise enviesada."
      ],
      "metadata": {
        "id": "iOMb6iMJuS4I"
      }
    },
    {
      "cell_type": "code",
      "source": [
        "def box_plot(variavel):\n",
        "  df[variavel].plot(kind = 'box' , vert = False , figsize = (15,3))\n",
        "  plt.title(f'Box plot de {variavel}' , fontsize = 16)"
      ],
      "metadata": {
        "id": "fUuhLHmVu_zz"
      },
      "execution_count": 266,
      "outputs": []
    },
    {
      "cell_type": "markdown",
      "source": [
        "![foto.png](data:image/png;base64,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)"
      ],
      "metadata": {
        "id": "Iva0m_JKw6pZ"
      }
    },
    {
      "cell_type": "markdown",
      "source": [
        "Checando a quantidade e porcentagem de acordo com medidas específicas."
      ],
      "metadata": {
        "id": "TquYN4pWzPhB"
      }
    },
    {
      "cell_type": "code",
      "source": [
        "def checar(variavel , quantidade):\n",
        "  print('Quantidade de entradas: {}'.format(len(df.loc[df[variavel] > quantidade])))\n",
        "  print('Porcentagem em relação ao total: {:.4f}%'.format((len(df.loc[df[variavel] > quantidade]) / df.shape[0]) * 100))"
      ],
      "metadata": {
        "id": "yLOu1j2Vy2S4"
      },
      "execution_count": 267,
      "outputs": []
    },
    {
      "cell_type": "markdown",
      "source": [
        "#### Noites mínimas"
      ],
      "metadata": {
        "id": "hfLt0OMSv8kd"
      }
    },
    {
      "cell_type": "code",
      "source": [
        "box_plot('minimum_nights')"
      ],
      "metadata": {
        "colab": {
          "base_uri": "https://localhost:8080/",
          "height": 229
        },
        "id": "5_pWyEbYvmUa",
        "outputId": "2b57f1f1-d3e5-451e-8b5d-19de48eac9b4"
      },
      "execution_count": 268,
      "outputs": [
        {
          "output_type": "display_data",
          "data": {
            "text/plain": [
              "<Figure size 1080x216 with 1 Axes>"
            ],
            "image/png": "[encoded data removed]"
          },
          "metadata": {
            "needs_background": "light"
          }
        }
      ]
    },
    {
      "cell_type": "markdown",
      "source": [
        "Identificando casos em que imóveis foram alugados acima de 30 noites:"
      ],
      "metadata": {
        "id": "Q6tIwnNKweBO"
      }
    },
    {
      "cell_type": "code",
      "source": [
        "checar('minimum_nights' , 30)"
      ],
      "metadata": {
        "colab": {
          "base_uri": "https://localhost:8080/"
        },
        "id": "kVhJhPV-xykv",
        "outputId": "e9f326d4-dee4-4ca4-b30f-aeb73b10ad51"
      },
      "execution_count": 269,
      "outputs": [
        {
          "output_type": "stream",
          "name": "stdout",
          "text": [
            "Quantidade de entradas: 77\n",
            "Porcentagem em relação ao total: 0.4627%\n"
          ]
        }
      ]
    },
    {
      "cell_type": "markdown",
      "source": [
        "#### Preço"
      ],
      "metadata": {
        "id": "blHW1cnizdTM"
      }
    },
    {
      "cell_type": "code",
      "source": [
        "box_plot('price')"
      ],
      "metadata": {
        "colab": {
          "base_uri": "https://localhost:8080/",
          "height": 229
        },
        "id": "I1VfX-BZzeXw",
        "outputId": "154f9897-c9c6-4b8f-afe8-49938cb67714"
      },
      "execution_count": 270,
      "outputs": [
        {
          "output_type": "display_data",
          "data": {
            "text/plain": [
              "<Figure size 1080x216 with 1 Axes>"
            ],
            "image/png": "[encoded data removed]"
          },
          "metadata": {
            "needs_background": "light"
          }
        }
      ]
    },
    {
      "cell_type": "code",
      "source": [
        "checar('price' , 5000)"
      ],
      "metadata": {
        "colab": {
          "base_uri": "https://localhost:8080/"
        },
        "id": "Yx_UuqgizhBi",
        "outputId": "d77c489f-601f-41a6-9771-b50677ff2bcb"
      },
      "execution_count": 271,
      "outputs": [
        {
          "output_type": "stream",
          "name": "stdout",
          "text": [
            "Quantidade de entradas: 86\n",
            "Porcentagem em relação ao total: 0.5167%\n"
          ]
        }
      ]
    },
    {
      "cell_type": "markdown",
      "source": [
        "Definimos um ponto de corte (nesse caso sem o uso de IQR) e agora executamos para deixar os dados mais precisos."
      ],
      "metadata": {
        "id": "tKib-DUV76Kx"
      }
    },
    {
      "cell_type": "code",
      "source": [
        "df.drop(df[df['minimum_nights'] > 30].index, axis=0, inplace=True)\n",
        "df.drop(df[df['price'] > 5000].index, axis=0, inplace=True)"
      ],
      "metadata": {
        "id": "eD0X9VyQ5668"
      },
      "execution_count": 272,
      "outputs": []
    },
    {
      "cell_type": "code",
      "source": [
        "df.describe()"
      ],
      "metadata": {
        "colab": {
          "base_uri": "https://localhost:8080/",
          "height": 300
        },
        "id": "CGGG_3nt96xJ",
        "outputId": "62884228-7f6a-454a-d425-83d00c47684b"
      },
      "execution_count": 273,
      "outputs": [
        {
          "output_type": "execute_result",
          "data": {
            "text/plain": [
              "            host_id      latitude     longitude         price  minimum_nights  \\\n",
              "count  1.648900e+04  16489.000000  16489.000000  16489.000000    16489.000000   \n",
              "mean   9.249041e+07    -22.967573    -43.239084    343.914003        3.087937   \n",
              "std    1.022554e+08      0.033009      0.090388    424.590051        3.428274   \n",
              "min    3.607000e+03    -23.072620    -43.689720     29.000000        1.000000   \n",
              "25%    1.296710e+07    -22.984440    -43.242640    135.000000        2.000000   \n",
              "50%    5.212114e+07    -22.972650    -43.193260    218.000000        2.000000   \n",
              "75%    1.453519e+08    -22.956700    -43.185010    380.000000        3.000000   \n",
              "max    3.949830e+08    -22.749690    -43.105380   5000.000000       30.000000   \n",
              "\n",
              "       number_of_reviews  reviews_per_month  calculated_host_listings_count  \\\n",
              "count       16489.000000       16489.000000                    16489.000000   \n",
              "mean           19.862636           0.583756                        5.519680   \n",
              "std            36.413885           0.826306                       14.866105   \n",
              "min             1.000000           0.010000                        1.000000   \n",
              "25%             2.000000           0.090000                        1.000000   \n",
              "50%             6.000000           0.260000                        2.000000   \n",
              "75%            20.000000           0.770000                        3.000000   \n",
              "max           452.000000          26.430000                      199.000000   \n",
              "\n",
              "       availability_365  \n",
              "count      16489.000000  \n",
              "mean         206.164837  \n",
              "std          139.257431  \n",
              "min            0.000000  \n",
              "25%           87.000000  \n",
              "50%          180.000000  \n",
              "75%          362.000000  \n",
              "max          365.000000  "
            ],
            "text/html": [
              "\n",
              "  <div id=\"df-95d0456a-d312-4497-a18d-2b9e516d6eb7\">\n",
              "    <div class=\"colab-df-container\">\n",
              "      <div>\n",
              "<style scoped>\n",
              "    .dataframe tbody tr th:only-of-type {\n",
              "        vertical-align: middle;\n",
              "    }\n",
              "\n",
              "    .dataframe tbody tr th {\n",
              "        vertical-align: top;\n",
              "    }\n",
              "\n",
              "    .dataframe thead th {\n",
              "        text-align: right;\n",
              "    }\n",
              "</style>\n",
              "<table border=\"1\" class=\"dataframe\">\n",
              "  <thead>\n",
              "    <tr style=\"text-align: right;\">\n",
              "      <th></th>\n",
              "      <th>host_id</th>\n",
              "      <th>latitude</th>\n",
              "      <th>longitude</th>\n",
              "      <th>price</th>\n",
              "      <th>minimum_nights</th>\n",
              "      <th>number_of_reviews</th>\n",
              "      <th>reviews_per_month</th>\n",
              "      <th>calculated_host_listings_count</th>\n",
              "      <th>availability_365</th>\n",
              "    </tr>\n",
              "  </thead>\n",
              "  <tbody>\n",
              "    <tr>\n",
              "      <th>count</th>\n",
              "      <td>1.648900e+04</td>\n",
              "      <td>16489.000000</td>\n",
              "      <td>16489.000000</td>\n",
              "      <td>16489.000000</td>\n",
              "      <td>16489.000000</td>\n",
              "      <td>16489.000000</td>\n",
              "      <td>16489.000000</td>\n",
              "      <td>16489.000000</td>\n",
              "      <td>16489.000000</td>\n",
              "    </tr>\n",
              "    <tr>\n",
              "      <th>mean</th>\n",
              "      <td>9.249041e+07</td>\n",
              "      <td>-22.967573</td>\n",
              "      <td>-43.239084</td>\n",
              "      <td>343.914003</td>\n",
              "      <td>3.087937</td>\n",
              "      <td>19.862636</td>\n",
              "      <td>0.583756</td>\n",
              "      <td>5.519680</td>\n",
              "      <td>206.164837</td>\n",
              "    </tr>\n",
              "    <tr>\n",
              "      <th>std</th>\n",
              "      <td>1.022554e+08</td>\n",
              "      <td>0.033009</td>\n",
              "      <td>0.090388</td>\n",
              "      <td>424.590051</td>\n",
              "      <td>3.428274</td>\n",
              "      <td>36.413885</td>\n",
              "      <td>0.826306</td>\n",
              "      <td>14.866105</td>\n",
              "      <td>139.257431</td>\n",
              "    </tr>\n",
              "    <tr>\n",
              "      <th>min</th>\n",
              "      <td>3.607000e+03</td>\n",
              "      <td>-23.072620</td>\n",
              "      <td>-43.689720</td>\n",
              "      <td>29.000000</td>\n",
              "      <td>1.000000</td>\n",
              "      <td>1.000000</td>\n",
              "      <td>0.010000</td>\n",
              "      <td>1.000000</td>\n",
              "      <td>0.000000</td>\n",
              "    </tr>\n",
              "    <tr>\n",
              "      <th>25%</th>\n",
              "      <td>1.296710e+07</td>\n",
              "      <td>-22.984440</td>\n",
              "      <td>-43.242640</td>\n",
              "      <td>135.000000</td>\n",
              "      <td>2.000000</td>\n",
              "      <td>2.000000</td>\n",
              "      <td>0.090000</td>\n",
              "      <td>1.000000</td>\n",
              "      <td>87.000000</td>\n",
              "    </tr>\n",
              "    <tr>\n",
              "      <th>50%</th>\n",
              "      <td>5.212114e+07</td>\n",
              "      <td>-22.972650</td>\n",
              "      <td>-43.193260</td>\n",
              "      <td>218.000000</td>\n",
              "      <td>2.000000</td>\n",
              "      <td>6.000000</td>\n",
              "      <td>0.260000</td>\n",
              "      <td>2.000000</td>\n",
              "      <td>180.000000</td>\n",
              "    </tr>\n",
              "    <tr>\n",
              "      <th>75%</th>\n",
              "      <td>1.453519e+08</td>\n",
              "      <td>-22.956700</td>\n",
              "      <td>-43.185010</td>\n",
              "      <td>380.000000</td>\n",
              "      <td>3.000000</td>\n",
              "      <td>20.000000</td>\n",
              "      <td>0.770000</td>\n",
              "      <td>3.000000</td>\n",
              "      <td>362.000000</td>\n",
              "    </tr>\n",
              "    <tr>\n",
              "      <th>max</th>\n",
              "      <td>3.949830e+08</td>\n",
              "      <td>-22.749690</td>\n",
              "      <td>-43.105380</td>\n",
              "      <td>5000.000000</td>\n",
              "      <td>30.000000</td>\n",
              "      <td>452.000000</td>\n",
              "      <td>26.430000</td>\n",
              "      <td>199.000000</td>\n",
              "      <td>365.000000</td>\n",
              "    </tr>\n",
              "  </tbody>\n",
              "</table>\n",
              "</div>\n",
              "      <button class=\"colab-df-convert\" onclick=\"convertToInteractive('df-95d0456a-d312-4497-a18d-2b9e516d6eb7')\"\n",
              "              title=\"Convert this dataframe to an interactive table.\"\n",
              "              style=\"display:none;\">\n",
              "        \n",
              "  <svg xmlns=\"http://www.w3.org/2000/svg\" height=\"24px\"viewBox=\"0 0 24 24\"\n",
              "       width=\"24px\">\n",
              "    <path d=\"M0 0h24v24H0V0z\" fill=\"none\"/>\n",
              "    <path d=\"M18.56 5.44l.94 2.06.94-2.06 2.06-.94-2.06-.94-.94-2.06-.94 2.06-2.06.94zm-11 1L8.5 8.5l.94-2.06 2.06-.94-2.06-.94L8.5 2.5l-.94 2.06-2.06.94zm10 10l.94 2.06.94-2.06 2.06-.94-2.06-.94-.94-2.06-.94 2.06-2.06.94z\"/><path d=\"M17.41 7.96l-1.37-1.37c-.4-.4-.92-.59-1.43-.59-.52 0-1.04.2-1.43.59L10.3 9.45l-7.72 7.72c-.78.78-.78 2.05 0 2.83L4 21.41c.39.39.9.59 1.41.59.51 0 1.02-.2 1.41-.59l7.78-7.78 2.81-2.81c.8-.78.8-2.07 0-2.86zM5.41 20L4 18.59l7.72-7.72 1.47 1.35L5.41 20z\"/>\n",
              "  </svg>\n",
              "      </button>\n",
              "      \n",
              "  <style>\n",
              "    .colab-df-container {\n",
              "      display:flex;\n",
              "      flex-wrap:wrap;\n",
              "      gap: 12px;\n",
              "    }\n",
              "\n",
              "    .colab-df-convert {\n",
              "      background-color: #E8F0FE;\n",
              "      border: none;\n",
              "      border-radius: 50%;\n",
              "      cursor: pointer;\n",
              "      display: none;\n",
              "      fill: #1967D2;\n",
              "      height: 32px;\n",
              "      padding: 0 0 0 0;\n",
              "      width: 32px;\n",
              "    }\n",
              "\n",
              "    .colab-df-convert:hover {\n",
              "      background-color: #E2EBFA;\n",
              "      box-shadow: 0px 1px 2px rgba(60, 64, 67, 0.3), 0px 1px 3px 1px rgba(60, 64, 67, 0.15);\n",
              "      fill: #174EA6;\n",
              "    }\n",
              "\n",
              "    [theme=dark] .colab-df-convert {\n",
              "      background-color: #3B4455;\n",
              "      fill: #D2E3FC;\n",
              "    }\n",
              "\n",
              "    [theme=dark] .colab-df-convert:hover {\n",
              "      background-color: #434B5C;\n",
              "      box-shadow: 0px 1px 3px 1px rgba(0, 0, 0, 0.15);\n",
              "      filter: drop-shadow(0px 1px 2px rgba(0, 0, 0, 0.3));\n",
              "      fill: #FFFFFF;\n",
              "    }\n",
              "  </style>\n",
              "\n",
              "      <script>\n",
              "        const buttonEl =\n",
              "          document.querySelector('#df-95d0456a-d312-4497-a18d-2b9e516d6eb7 button.colab-df-convert');\n",
              "        buttonEl.style.display =\n",
              "          google.colab.kernel.accessAllowed ? 'block' : 'none';\n",
              "\n",
              "        async function convertToInteractive(key) {\n",
              "          const element = document.querySelector('#df-95d0456a-d312-4497-a18d-2b9e516d6eb7');\n",
              "          const dataTable =\n",
              "            await google.colab.kernel.invokeFunction('convertToInteractive',\n",
              "                                                     [key], {});\n",
              "          if (!dataTable) return;\n",
              "\n",
              "          const docLinkHtml = 'Like what you see? Visit the ' +\n",
              "            '<a target=\"_blank\" href=https://colab.research.google.com/notebooks/data_table.ipynb>data table notebook</a>'\n",
              "            + ' to learn more about interactive tables.';\n",
              "          element.innerHTML = '';\n",
              "          dataTable['output_type'] = 'display_data';\n",
              "          await google.colab.output.renderOutput(dataTable, element);\n",
              "          const docLink = document.createElement('div');\n",
              "          docLink.innerHTML = docLinkHtml;\n",
              "          element.appendChild(docLink);\n",
              "        }\n",
              "      </script>\n",
              "    </div>\n",
              "  </div>\n",
              "  "
            ]
          },
          "metadata": {},
          "execution_count": 273
        }
      ]
    },
    {
      "cell_type": "markdown",
      "source": [
        "### Correlação entre as variáveis"
      ],
      "metadata": {
        "id": "13Yg4Ykq5RoY"
      }
    },
    {
      "cell_type": "code",
      "source": [
        "correlacao = df.corr()\n",
        "correlacao = correlacao.loc['price' , 'minimum_nights']\n",
        "print(f'A correlação entre preço e noites mínimas é de: {correlacao.round(2)}')"
      ],
      "metadata": {
        "colab": {
          "base_uri": "https://localhost:8080/"
        },
        "id": "f7jtekhVzoFe",
        "outputId": "34075d92-72a5-49b8-e86c-b1339e413304"
      },
      "execution_count": 274,
      "outputs": [
        {
          "output_type": "stream",
          "name": "stdout",
          "text": [
            "A correlação entre preço e noites mínimas é de: 0.04\n"
          ]
        }
      ]
    },
    {
      "cell_type": "markdown",
      "source": [
        "### Tipo de imóvel mais alugado"
      ],
      "metadata": {
        "id": "-qnGrlBl8JVq"
      }
    },
    {
      "cell_type": "code",
      "source": [
        "df['room_type'].value_counts(ascending = False)"
      ],
      "metadata": {
        "colab": {
          "base_uri": "https://localhost:8080/"
        },
        "id": "KpzDJ0u28PBX",
        "outputId": "4f3520ec-79ff-436f-ab39-1dec46bda7ce"
      },
      "execution_count": 275,
      "outputs": [
        {
          "output_type": "execute_result",
          "data": {
            "text/plain": [
              "Entire home/apt    12315\n",
              "Private room        3833\n",
              "Shared room          272\n",
              "Hotel room            69\n",
              "Name: room_type, dtype: int64"
            ]
          },
          "metadata": {},
          "execution_count": 275
        }
      ]
    },
    {
      "cell_type": "markdown",
      "source": [
        "### Bairros mais caros"
      ],
      "metadata": {
        "id": "t2fnI3Za9ggD"
      }
    },
    {
      "cell_type": "code",
      "source": [
        "df.groupby(['neighbourhood'])['price'].mean().sort_values(ascending = False)[:10]"
      ],
      "metadata": {
        "colab": {
          "base_uri": "https://localhost:8080/"
        },
        "id": "3bOAG5bU8X1Y",
        "outputId": "4f36a338-cbd8-4b3b-c684-239325ec12a1"
      },
      "execution_count": 276,
      "outputs": [
        {
          "output_type": "execute_result",
          "data": {
            "text/plain": [
              "neighbourhood\n",
              "Joá                  1310.658537\n",
              "Alto da Boa Vista     939.619048\n",
              "Guaratiba             604.416667\n",
              "Sepetiba              600.000000\n",
              "São Conrado           598.633663\n",
              "Abolição              597.000000\n",
              "Lagoa                 583.480000\n",
              "Itanhangá             553.673913\n",
              "Vargem Grande         540.918919\n",
              "Realengo              540.500000\n",
              "Name: price, dtype: float64"
            ]
          },
          "metadata": {},
          "execution_count": 276
        }
      ]
    },
    {
      "cell_type": "code",
      "source": [
        "print(df[df['neighbourhood'] == 'Abolição'].shape[0])"
      ],
      "metadata": {
        "colab": {
          "base_uri": "https://localhost:8080/"
        },
        "id": "vqUiej-H_MEm",
        "outputId": "c7709003-6bdd-42bf-b6b3-0092efbb35b5"
      },
      "execution_count": 278,
      "outputs": [
        {
          "output_type": "stream",
          "name": "stdout",
          "text": [
            "1\n"
          ]
        }
      ]
    },
    {
      "cell_type": "markdown",
      "source": [
        "## Conclusão"
      ],
      "metadata": {
        "id": "LTHbOjrVAwfa"
      }
    },
    {
      "cell_type": "markdown",
      "source": [
        "Após a limpeza inicial do dataframe, na qual exclui e preenchi colunas com dados ausentes, decidi fazer uma análise em relação aos preços e noites mínimas. Nesse quesito, é notável que a maioria dos atendimentos são realizados para menos de um mês, visto que ocasiões com uma duração maior representam apenas aproximadamente 0,5% dos casos. Além disso, podemos racionar da mesma forma para os preços no patamar de 5000 reais, dificilmente passando desse preço (aproximadamente 0,5% também), com isso, identificando outliers nos dois casos e removendo-os logo depois. Ademais, o tipo de imóvel mais alugado provou-se ser um apartamento ou casa inteira, resultado que considerei normal na medida em que é a principal proposta do Airbnb. Em suma, ao analisar os bairros mais caros na média, percebi o bairro Abolição acima de Lagoa e Itanhangá, e ao analisar a quantidade de pedidos para esse bairro, conclui que um único pedido estava acima da média dos outros dois bairros. Por fim, esse fato deixa claro como a quantidade de dados pode alterar seus resultados e nosso entedimento em relação a eles e a realidade"
      ],
      "metadata": {
        "id": "SdPsgn_-BetE"
      }
    }
  ]
}